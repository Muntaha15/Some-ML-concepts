{
 "metadata": {
  "language_info": {
   "codemirror_mode": {
    "name": "ipython",
    "version": 3
   },
   "file_extension": ".py",
   "mimetype": "text/x-python",
   "name": "python",
   "nbconvert_exporter": "python",
   "pygments_lexer": "ipython3",
   "version": "3.9.0-final"
  },
  "orig_nbformat": 2,
  "kernelspec": {
   "name": "python3",
   "display_name": "Python 3"
  }
 },
 "nbformat": 4,
 "nbformat_minor": 2,
 "cells": [
  {
   "cell_type": "code",
   "execution_count": 3,
   "metadata": {},
   "outputs": [],
   "source": [
    "import numpy as np \n",
    "import pandas as pd \n",
    "import matplotlib.pyplot as plt "
   ]
  },
  {
   "cell_type": "code",
   "execution_count": 4,
   "metadata": {},
   "outputs": [
    {
     "output_type": "stream",
     "name": "stdout",
     "text": [
      "     age  restbps  chol  category\n471   55      156   246         1\n306   47      128   265         0\n192   24       95   208         0\n114   21       96   227         0\n46    28      104   253         0\n..   ...      ...   ...       ...\n528   74      149   331         1\n81    29      108   159         0\n278   31      113   167         0\n576   61      139   392         1\n568   75      131   339         1\n\n[700 rows x 4 columns]\n"
     ]
    }
   ],
   "source": [
    "#reading data from CSV file\n",
    "dataset = pd.read_csv('health_data.csv')\n",
    "dataset  = dataset.sample(frac = 1)\n",
    "X = dataset.iloc[:,:-1].values\n",
    "y = dataset.iloc[:,-1:].values\n",
    "datasize = X.shape[0]\n",
    "X_train = X[:(datasize*7)//10,:]\n",
    "y_train = y[:(datasize*7)//10,:]\n",
    "X_test = X[(datasize*7)//10:,:]\n",
    "y_test =  y[(datasize*7)//10:,:]\n",
    "print(dataset)"
   ]
  },
  {
   "cell_type": "code",
   "execution_count": 5,
   "metadata": {},
   "outputs": [
    {
     "output_type": "stream",
     "name": "stdout",
     "text": [
      "[[ 55 156 246]\n [ 58 156 332]\n [ 57 128 287]\n [ 53 142 296]\n [ 66 131 345]\n [ 68 156 378]\n [ 38 136 232]\n [ 61 127 351]\n [ 53 143 189]\n [ 65 143 346]\n [ 69 163 364]\n [ 66 145 348]\n [ 72 137 310]\n [ 41 137 262]\n [ 65 154 383]\n [ 49 142 302]\n [ 55 133 291]\n [ 67 158 395]\n [ 48 139 273]\n [ 46 151 322]\n [ 63 145 367]\n [ 42 135 212]\n [ 42 132 280]\n [ 69 137 311]\n [ 67 135 302]\n [ 53 135 274]\n [ 56 149 348]\n [ 53 142 256]\n [ 38 138 249]\n [ 61 137 322]\n [ 65 143 384]\n [ 57 139 247]\n [ 61 143 433]\n [ 47 139 259]\n [ 71 135 344]\n [ 44 132 184]\n [ 54 123 143]\n [ 51 142 294]\n [ 66 147 351]\n [ 42 140 201]\n [ 64 145 355]\n [ 54 142 245]\n [ 53 143 292]\n [ 59 161 296]\n [ 65 159 351]\n [ 48 131 226]\n [ 42 134 153]\n [ 51 109 242]\n [ 62 146 309]\n [ 39 131 239]\n [ 65 135 354]\n [ 34 135 251]\n [ 45 146 251]\n [ 58 153 328]\n [ 64 126 359]\n [ 67 153 364]\n [ 61 135 417]\n [ 48 141 261]\n [ 56 151 272]\n [ 55 161 322]\n [ 47 111 202]\n [ 46 126 226]\n [ 34 135 238]\n [ 70 150 333]\n [ 56 157 287]\n [ 55 161 309]\n [ 44 146 204]\n [ 34 119 186]\n [ 64 156 344]\n [ 55 152 234]\n [ 67 152 351]\n [ 58 166 302]\n [ 61 131 379]\n [ 54 131 259]\n [ 43 130 226]\n [ 56 144 308]\n [ 42 132 251]\n [ 42 126 221]\n [ 45 130 214]\n [ 35 134 255]\n [ 41 137 223]\n [ 54 150 316]\n [ 56 143 286]\n [ 55 158 286]\n [ 47 131 170]\n [ 45 120 218]\n [ 50 137 189]\n [ 53 123 243]\n [ 45 140 274]\n [ 68 133 329]\n [ 46 119 212]\n [ 42 120 211]\n [ 50 149 291]\n [ 61 140 372]\n [ 58 140 340]\n [ 62 147 328]\n [ 62 139 312]\n [ 56 152 285]\n [ 44 147 233]\n [ 55 156 307]\n [ 53 152 295]\n [ 67 154 338]\n [ 64 136 297]\n [ 62 146 370]\n [ 51 144 283]\n [ 62 156 371]\n [ 59 151 314]\n [ 59 153 274]\n [ 58 170 261]\n [ 47 138 271]\n [ 54 155 395]\n [ 63 136 240]\n [ 50 141 270]\n [ 46 169 266]\n [ 54 147 304]\n [ 45 124 160]\n [ 65 150 376]\n [ 48 114 217]\n [ 64 148 372]\n [ 58 143 366]\n [ 55 143 279]\n [ 52 163 311]\n [ 53 140 289]\n [ 59 173 293]\n [ 63 139 431]\n [ 61 155 343]\n [ 64 151 355]\n [ 70 143 387]\n [ 66 135 351]\n [ 45 144 309]\n [ 68 134 363]\n [ 45 139 231]\n [ 60 142 357]\n [ 71 137 382]\n [ 45 127 297]\n [ 46 157 292]\n [ 71 138 388]\n [ 54 135 241]\n [ 46 149 264]\n [ 67 156 375]\n [ 41 127 238]\n [ 61 141 326]\n [ 68 141 259]\n [ 51 127 330]\n [ 55 149 249]\n [ 43 126 218]\n [ 55 168 280]\n [ 55 143 285]\n [ 62 145 384]\n [ 57 150 288]\n [ 71 136 395]\n [ 44 119 235]\n [ 53 133 253]\n [ 66 126 317]\n [ 47 135 214]\n [ 45 140 229]\n [ 44 118 183]\n [ 53 152 292]\n [ 48 146 289]\n [ 45 142 195]\n [ 46 152 325]\n [ 47 128 232]\n [ 64 158 364]\n [ 63 172 388]\n [ 67 136 301]\n [ 56 157 267]\n [ 61 150 332]\n [ 78 155 327]\n [ 64 142 368]\n [ 71 140 368]\n [ 47 128 265]\n [ 39 144 223]\n [ 51 163 311]\n [ 40 133 214]\n [ 50 143 219]\n [ 40 127 202]\n [ 51 140 319]\n [ 60 160 253]\n [ 69 148 348]\n [ 66 142 329]\n [ 67 141 357]\n [ 47 137 333]\n [ 65 137 370]\n [ 40 137 191]\n [ 55 145 318]\n [ 57 144 379]\n [ 42 135 225]\n [ 50 135 315]\n [ 42 150 235]\n [ 69 143 333]\n [ 44 134 238]\n [ 39 125 207]\n [ 62 136 372]\n [ 40 136 234]\n [ 50 140 249]\n [ 57 137 277]\n [ 50 149 239]\n [ 54 161 264]\n [ 46 121 219]\n [ 63 146 370]\n [ 49 119 194]\n [ 52 146 220]\n [ 65 126 354]\n [ 68 134 332]\n [ 57 146 323]\n [ 51 133 234]\n [ 55 138 301]\n [ 57 141 312]\n [ 52 159 290]\n [ 65 151 322]\n [ 39 119 247]\n [ 54 153 297]]\n"
     ]
    }
   ],
   "source": [
    "X_train_0 = X_train[y_train[:,0]==0]\n",
    "X_train_1 = X_train[y_train[:,0]==1]\n",
    "print(X_train_1)"
   ]
  },
  {
   "cell_type": "code",
   "execution_count": 6,
   "metadata": {},
   "outputs": [],
   "source": [
    "#Multivariate gaussian distribution\n",
    "def Multivariate_gaussian(inp,mean,covariance):\n",
    "    det_covariance = np.linalg.det(covariance)\n",
    "    front = ((2*np.pi)**3)*det_covariance\n",
    "    front = pow(front, 0.5)\n",
    "    front = 1/front\n",
    "    exp = np.matmul(np.transpose(inp - mean),np.linalg.inv(covariance))\n",
    "    exp = np.matmul(exp,inp-mean)\n",
    "    exp = np.exp(-0.5*exp)\n",
    "    ret = front*exp\n",
    "    return ret"
   ]
  },
  {
   "cell_type": "code",
   "execution_count": 7,
   "metadata": {},
   "outputs": [
    {
     "output_type": "stream",
     "name": "stdout",
     "text": [
      "[ 32.25539568 113.82733813 228.02517986]\n[[ 81.31247089  91.75273019 -25.31938047]\n [ 91.75273019 164.0709073  -35.37694736]\n [-25.31938047 -35.37694736 940.58569691]]\n"
     ]
    }
   ],
   "source": [
    "#Calculating the mean and Variance for the class 0\n",
    "N_0 = X_train_0.shape[0]\n",
    "mean_0 = (1/N_0)*np.sum(X_train_0, axis = 0)\n",
    "print(mean_0)\n",
    "covariance_0 = (1/N_0)*(np.matmul(np.transpose(X_train_0-mean_0),X_train_0 - mean_0))\n",
    "print(covariance_0)"
   ]
  },
  {
   "cell_type": "code",
   "execution_count": 8,
   "metadata": {},
   "outputs": [
    {
     "output_type": "stream",
     "name": "stdout",
     "text": [
      "[ 54.66509434 141.58018868 291.49528302]\n[[  89.42085707   38.55279904  433.20360894]\n [  38.55279904  140.44168298  287.42490655]\n [ 433.20360894  287.42490655 3656.05186454]]\n"
     ]
    }
   ],
   "source": [
    "#Calculating the mean and covariance matrix for the class 1\n",
    "N_1 = X_train_1.shape[0]\n",
    "mean_1 = (1/N_1)*np.sum(X_train_1, axis = 0)\n",
    "covariance_1 = (1/N_1)*(np.matmul(np.transpose(X_train_1-mean_1),X_train_1 - mean_1))\n",
    "print(mean_1)\n",
    "print(covariance_1)"
   ]
  },
  {
   "cell_type": "code",
   "execution_count": 9,
   "metadata": {},
   "outputs": [],
   "source": [
    "def predict(inp):\n",
    "    p_0 = Multivariate_gaussian(inp,mean_0,covariance_0)\n",
    "    p_1 = Multivariate_gaussian(inp,mean_1,covariance_1)\n",
    "    if p_0 > p_1:\n",
    "        return 0\n",
    "    else:\n",
    "        return 1"
   ]
  },
  {
   "cell_type": "code",
   "execution_count": 13,
   "metadata": {},
   "outputs": [],
   "source": [
    "def Accuracy_of_classifier(test_X,test_y):\n",
    "    count = 0\n",
    "    score = [[0,0] for i in range(2)]\n",
    "    for i in range(test_X.shape[0]):\n",
    "        pred_cat = predict(test_X[i])\n",
    "        score[test_y[i][0]][pred_cat]+=1\n",
    "        if test_y[i][0]==pred_cat:\n",
    "            count+=1\n",
    "    print(\"tp: {}\".format(score[0][0]),\"tn: {}\".format(score[1][1]),\"fp: {}\".format(score[0][1]), \"fn: {}\".format(score[1][0]))\n",
    "    precision = score[1][1]/(score[0][1]+score[1][1])\n",
    "    recall = score[1][1]/(score[1][0]+score[1][1])\n",
    "    F1 = (2*precision*recall)/(precision+recall)\n",
    "    print(\"Accuracy: {} \".format(count/len(test_X)))\n",
    "    print(\"Precision: {}\".format(precision))\n",
    "    print(\"Recall: {}\".format(recall))\n",
    "    print(\"F1 Score: {}\".format(F1))\n"
   ]
  },
  {
   "cell_type": "code",
   "execution_count": 14,
   "metadata": {},
   "outputs": [
    {
     "output_type": "stream",
     "name": "stdout",
     "text": [
      "tp: 239 tn: 181 fp: 39 fn: 31\nAccuracy: 0.8571428571428571 \nPrecision: 0.8227272727272728\nRecall: 0.8537735849056604\nF1 Score: 0.837962962962963\n"
     ]
    }
   ],
   "source": [
    "Accuracy_of_classifier(X_train,y_train)"
   ]
  },
  {
   "cell_type": "code",
   "execution_count": 15,
   "metadata": {},
   "outputs": [
    {
     "output_type": "stream",
     "name": "stdout",
     "text": [
      "tp: 104 tn: 76 fp: 18 fn: 12\nAccuracy: 0.8571428571428571 \nPrecision: 0.8085106382978723\nRecall: 0.8636363636363636\nF1 Score: 0.8351648351648351\n"
     ]
    }
   ],
   "source": [
    "Accuracy_of_classifier(X_test, y_test)"
   ]
  },
  {
   "cell_type": "code",
   "execution_count": null,
   "metadata": {},
   "outputs": [],
   "source": []
  }
 ]
}
