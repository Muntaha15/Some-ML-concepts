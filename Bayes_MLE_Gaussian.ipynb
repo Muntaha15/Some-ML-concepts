{
 "metadata": {
  "language_info": {
   "codemirror_mode": {
    "name": "ipython",
    "version": 3
   },
   "file_extension": ".py",
   "mimetype": "text/x-python",
   "name": "python",
   "nbconvert_exporter": "python",
   "pygments_lexer": "ipython3",
   "version": "3.9.0-final"
  },
  "orig_nbformat": 2,
  "kernelspec": {
   "name": "python3",
   "display_name": "Python 3"
  }
 },
 "nbformat": 4,
 "nbformat_minor": 2,
 "cells": [
  {
   "cell_type": "code",
   "execution_count": 57,
   "metadata": {},
   "outputs": [],
   "source": [
    "import numpy as np \n",
    "import pandas as pd \n",
    "import matplotlib.pyplot as plt "
   ]
  },
  {
   "cell_type": "code",
   "execution_count": 58,
   "metadata": {},
   "outputs": [
    {
     "output_type": "stream",
     "name": "stdout",
     "text": [
      "     age  restbps  chol  category\n24    21      113   216         0\n364   44      119   235         0\n254   36      116   254         0\n346   47      133   254         0\n581   64      142   368         1\n..   ...      ...   ...       ...\n482   68      141   259         1\n386   42      116   224         0\n434   52      160   325         1\n174   23      107   252         0\n263   35      111   239         0\n\n[700 rows x 4 columns]\n"
     ]
    }
   ],
   "source": [
    "#reading data from CSV file\n",
    "dataset = pd.read_csv('D:\\ELLAssDataset\\health_data.csv')\n",
    "dataset  = dataset.sample(frac = 1)\n",
    "X = dataset.iloc[:,:-1].values\n",
    "y = dataset.iloc[:,-1:].values\n",
    "datasize = X.shape[0]\n",
    "X_train = X[:(datasize*7)//10,:]\n",
    "y_train = y[:(datasize*7)//10,:]\n",
    "X_test = X[(datasize*7)//10:,:]\n",
    "y_test =  y[(datasize*7)//10:,:]\n",
    "print(dataset)"
   ]
  },
  {
   "cell_type": "code",
   "execution_count": 59,
   "metadata": {},
   "outputs": [
    {
     "output_type": "stream",
     "name": "stdout",
     "text": [
      "[[ 64 142 368]\n [ 55 156 307]\n [ 39 120 225]\n [ 57 160 348]\n [ 66 131 345]\n [ 53 140 289]\n [ 46 149 264]\n [ 48 114 217]\n [ 52 146 220]\n [ 43 130 226]\n [ 56 157 287]\n [ 34 135 251]\n [ 47 111 202]\n [ 58 166 302]\n [ 67 153 364]\n [ 65 159 351]\n [ 67 152 351]\n [ 54 155 395]\n [ 61 140 372]\n [ 40 133 214]\n [ 61 150 332]\n [ 56 149 348]\n [ 36 133 233]\n [ 40 136 236]\n [ 62 145 384]\n [ 44 134 238]\n [ 58 143 366]\n [ 71 140 368]\n [ 48 146 289]\n [ 57 141 312]\n [ 51 144 283]\n [ 52 159 290]\n [ 69 137 311]\n [ 75 131 339]\n [ 50 135 315]\n [ 72 137 310]\n [ 71 136 395]\n [ 53 165 306]\n [ 44 147 233]\n [ 68 156 378]\n [ 50 123 322]\n [ 45 137 214]\n [ 42 135 212]\n [ 50 129 289]\n [ 66 142 329]\n [ 62 146 370]\n [ 56 151 272]\n [ 51 127 330]\n [ 38 136 232]\n [ 71 138 388]\n [ 43 128 213]\n [ 45 144 309]\n [ 62 147 328]\n [ 45 120 218]\n [ 57 150 288]\n [ 39 119 247]\n [ 62 144 314]\n [ 55 149 249]\n [ 47 139 259]\n [ 42 135 225]\n [ 42 145 219]\n [ 54 135 254]\n [ 43 119 239]\n [ 53 152 292]\n [ 55 156 246]\n [ 54 135 241]\n [ 42 132 251]\n [ 55 161 309]\n [ 45 120 276]\n [ 59 161 285]\n [ 62 156 371]\n [ 60 148 276]\n [ 53 142 296]\n [ 43 126 218]\n [ 42 126 221]\n [ 45 127 297]\n [ 63 136 240]\n [ 66 145 348]\n [ 58 140 288]\n [ 63 145 367]\n [ 40 138 185]\n [ 69 163 364]\n [ 64 136 297]\n [ 55 133 291]\n [ 55 152 234]\n [ 48 138 243]\n [ 51  98 276]\n [ 47 138 217]\n [ 55 156 321]\n [ 42 134 153]\n [ 55 158 286]\n [ 62 149 333]\n [ 42 150 235]\n [ 41 121 239]\n [ 42 116 224]\n [ 55 145 318]\n [ 54 123 143]\n [ 67 135 302]\n [ 55 138 301]\n [ 62 134 366]\n [ 41 137 262]\n [ 45 150 149]\n [ 66 110 346]\n [ 61 143 433]\n [ 69 148 348]\n [ 62 139 312]\n [ 57 139 247]\n [ 70 150 333]\n [ 56 143 286]\n [ 38 138 249]\n [ 64 148 372]\n [ 70 148 348]\n [ 41 127 238]\n [ 46 157 292]\n [ 57 146 323]\n [ 54 153 277]\n [ 65 143 346]\n [ 68 149 333]\n [ 44 118 183]\n [ 60 137 250]\n [ 65 150 376]\n [ 48 131 226]\n [ 60 151 370]\n [ 51 140 319]\n [ 47 141 265]\n [ 55 143 285]\n [ 44 132 184]\n [ 56 157 267]\n [ 55 168 280]\n [ 61 131 379]\n [ 49 125 164]\n [ 58 145 236]\n [ 55 143 279]\n [ 44 119 299]\n [ 58 153 328]\n [ 67 136 301]\n [ 55 141 366]\n [ 54 131 259]\n [ 68 134 332]\n [ 64 126 359]\n [ 47 138 271]\n [ 62 136 247]\n [ 68 133 329]\n [ 66 137 393]\n [ 58 150 313]\n [ 40 136 234]\n [ 70 143 387]\n [ 53 143 189]\n [ 45 140 229]\n [ 73 141 383]\n [ 61 137 322]\n [ 78 155 327]\n [ 63 172 388]\n [ 71 135 344]\n [ 51 109 242]\n [ 42 143 254]\n [ 49 142 302]\n [ 54 150 316]\n [ 45 146 251]\n [ 40 137 191]\n [ 71 137 382]\n [ 43 126 266]\n [ 60 156 234]\n [ 69 143 333]\n [ 59 161 296]\n [ 52 163 311]\n [ 51 163 311]\n [ 61 155 343]\n [ 47 135 214]\n [ 60 145 421]\n [ 46 130 331]\n [ 66 126 317]\n [ 62 146 309]\n [ 58 140 340]\n [ 55 144 308]\n [ 65 154 383]\n [ 45 124 160]\n [ 45 142 195]\n [ 46 152 325]\n [ 36 134 223]\n [ 61 154 328]\n [ 63 137 343]\n [ 46 136 233]\n [ 58 146 290]\n [ 51 135 268]\n [ 34 135 238]\n [ 65 126 354]\n [ 62 136 372]\n [ 47 138 252]\n [ 57 158 245]\n [ 58 170 261]\n [ 66 135 351]\n [ 59 151 314]\n [ 67 158 395]\n [ 68 135 308]\n [ 48 141 261]\n [ 51 133 234]\n [ 53 135 274]\n [ 50 141 270]\n [ 42 132 280]\n [ 47 128 265]\n [ 67 134 324]\n [ 53 125 216]\n [ 53 143 292]\n [ 56 134 208]\n [ 59 143 318]\n [ 46 119 212]\n [ 45 140 274]\n [ 61 127 351]\n [ 45 130 214]]\n"
     ]
    }
   ],
   "source": [
    "X_train_0 = X_train[y_train[:,0]==0]\n",
    "X_train_1 = X_train[y_train[:,0]==1]\n",
    "print(X_train_1)"
   ]
  },
  {
   "cell_type": "code",
   "execution_count": 60,
   "metadata": {},
   "outputs": [],
   "source": [
    "#Multivariate gaussian distribution\n",
    "def Multivariate_gaussian(inp,mean,covariance):\n",
    "    det_covariance = np.linalg.det(covariance)\n",
    "    front = ((2*np.pi)**3)*det_covariance\n",
    "    front = pow(front, 0.5)\n",
    "    front = 1/front\n",
    "    exp = np.matmul(np.transpose(inp - mean),covariance)\n",
    "    exp = np.matmul(exp,inp-mean)\n",
    "    exp = np.exp(-0.5*exp)\n",
    "    ret = front*exp\n",
    "    return ret"
   ]
  },
  {
   "cell_type": "code",
   "execution_count": 61,
   "metadata": {},
   "outputs": [
    {
     "output_type": "stream",
     "name": "stdout",
     "text": [
      "[ 32.16071429 114.06785714 229.90714286]\n[[ 88.04917092  96.36409439  -5.69221939]\n [ 96.36409439 166.41325255 -17.99369898]\n [ -5.69221939 -17.99369898 924.84137755]]\n"
     ]
    }
   ],
   "source": [
    "#Calculating the mean and Variance for the class 0\n",
    "N_0 = X_train_0.shape[0]\n",
    "mean_0 = (1/N_0)*np.sum(X_train_0, axis = 0)\n",
    "print(mean_0)\n",
    "covariance_0 = (1/N_0)*(np.matmul(np.transpose(X_train_0-mean_0),X_train_0 - mean_0))\n",
    "print(covariance_0)"
   ]
  },
  {
   "cell_type": "code",
   "execution_count": 62,
   "metadata": {},
   "outputs": [
    {
     "output_type": "stream",
     "name": "stdout",
     "text": [
      "[ 54.64285714 140.41904762 289.97142857]\n[[  91.65816327   37.29727891  410.9755102 ]\n [  37.29727891  148.46249433  249.4262585 ]\n [ 410.9755102   249.4262585  3481.50394558]]\n"
     ]
    }
   ],
   "source": [
    "#Calculating the mean and covariance matrix for the class 1\n",
    "N_1 = X_train_1.shape[0]\n",
    "mean_1 = (1/N_1)*np.sum(X_train_1, axis = 0)\n",
    "covariance_1 = (1/N_1)*(np.matmul(np.transpose(X_train_1-mean_1),X_train_1 - mean_1))\n",
    "print(mean_1)\n",
    "print(covariance_1)"
   ]
  },
  {
   "cell_type": "code",
   "execution_count": 63,
   "metadata": {},
   "outputs": [],
   "source": [
    "def predict(inp):\n",
    "    p_0 = Multivariate_gaussian(inp,mean_0,covariance_0)\n",
    "    p_1 = Multivariate_gaussian(inp,mean_1,covariance_1)\n",
    "    if p_0 > p_1:\n",
    "        return 0\n",
    "    else:\n",
    "        return 1"
   ]
  },
  {
   "cell_type": "code",
   "execution_count": 64,
   "metadata": {},
   "outputs": [],
   "source": [
    "def Accuracy_of_classifier(test_X,test_y):\n",
    "    count = 0\n",
    "    score = [[0,0] for i in range(2)]\n",
    "    for i in range(test_X.shape[0]):\n",
    "        pred_cat = predict(test_X[i])\n",
    "        score[test_y[i][0]][pred_cat]+=1\n",
    "        if test_y[i][0]==pred_cat:\n",
    "            count+=1\n",
    "    print(score)\n",
    "    precision = score[1][1]/(score[0][1]+score[1][1])\n",
    "    recall = score[1][1]/(score[1][0]+score[1][1])\n",
    "    F1 = (2*precision*recall)/(precision+recall)\n",
    "    print(\"Accuracy: {} %\".format(count*100/len(test_X)))\n",
    "    print(\"Precision: {}\".format(precision))\n",
    "    print(\"Recall: {}\".format(recall))\n",
    "    print(\"F1 Score: {}\".format(F1))\n"
   ]
  },
  {
   "cell_type": "code",
   "execution_count": 65,
   "metadata": {},
   "outputs": [
    {
     "output_type": "stream",
     "name": "stdout",
     "text": [
      "[[1, 279], [0, 210]]\nAccuracy: 43.06122448979592 %\nPrecision: 0.4294478527607362\nRecall: 1.0\nF1 Score: 0.6008583690987125\n"
     ]
    }
   ],
   "source": [
    "Accuracy_of_classifier(X_train,y_train)"
   ]
  },
  {
   "cell_type": "code",
   "execution_count": 66,
   "metadata": {},
   "outputs": [
    {
     "output_type": "execute_result",
     "data": {
      "text/plain": [
       "1"
      ]
     },
     "metadata": {},
     "execution_count": 66
    }
   ],
   "source": [
    "predict([21,105,241])"
   ]
  },
  {
   "cell_type": "code",
   "execution_count": null,
   "metadata": {},
   "outputs": [],
   "source": []
  }
 ]
}