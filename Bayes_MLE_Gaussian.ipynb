{
 "metadata": {
  "language_info": {
   "codemirror_mode": {
    "name": "ipython",
    "version": 3
   },
   "file_extension": ".py",
   "mimetype": "text/x-python",
   "name": "python",
   "nbconvert_exporter": "python",
   "pygments_lexer": "ipython3",
   "version": "3.9.0-final"
  },
  "orig_nbformat": 2,
  "kernelspec": {
   "name": "python3",
   "display_name": "Python 3"
  }
 },
 "nbformat": 4,
 "nbformat_minor": 2,
 "cells": [
  {
   "cell_type": "code",
   "execution_count": 4,
   "metadata": {},
   "outputs": [],
   "source": [
    "import numpy as np \n",
    "import pandas as pd \n",
    "import matplotlib.pyplot as plt "
   ]
  },
  {
   "cell_type": "code",
   "execution_count": 7,
   "metadata": {},
   "outputs": [],
   "source": [
    "#reading data from CSV file\n",
    "dataset = pd.read_csv('D:\\ELLAssDataset\\health_data.csv')\n",
    "dataset  = dataset.sample(frac = 1)\n",
    "X = dataset.iloc[:,:-1].values\n",
    "y = dataset.iloc[:,-1:].values\n",
    "datasize = X.shape[0]\n",
    "X_train = X[:(datasize*7)//10,:]\n",
    "y_train = y[:(datasize*7)//10,:]\n",
    "X_test = X[(datasize*7)//10:,:]\n",
    "y_test =  y[(datasize*7)//10:,:]"
   ]
  },
  {
   "cell_type": "code",
   "execution_count": 10,
   "metadata": {},
   "outputs": [],
   "source": [
    "#Multivariate gaussian distribution\n",
    "def Multivariate_gaussian(inp,mean,covariance):\n",
    "    det_covariance = np.linalg.det(covariance)\n",
    "    front = ((2*np.pi)**3)*det_covariance\n",
    "    front = pow(front, 0.5)\n",
    "    front = 1/front\n",
    "    exp = np.multiply(np.transpose(inp - mean),covariance)\n",
    "    exp = np.multiply(exp,inp-mean)\n",
    "    exp = np.exp(-0.5*exp)\n",
    "    ret = front*exp\n",
    "    return ret"
   ]
  },
  {
   "cell_type": "code",
   "execution_count": 9,
   "metadata": {},
   "outputs": [
    {
     "output_type": "execute_result",
     "data": {
      "text/plain": [
       "6.283185307179586"
      ]
     },
     "metadata": {},
     "execution_count": 9
    }
   ],
   "source": [
    "#Calculating the mean for the data\n",
    "N = "
   ]
  },
  {
   "cell_type": "code",
   "execution_count": null,
   "metadata": {},
   "outputs": [],
   "source": []
  }
 ]
}