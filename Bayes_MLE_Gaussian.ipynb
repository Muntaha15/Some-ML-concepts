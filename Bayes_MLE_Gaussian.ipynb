{
 "metadata": {
  "language_info": {
   "codemirror_mode": {
    "name": "ipython",
    "version": 3
   },
   "file_extension": ".py",
   "mimetype": "text/x-python",
   "name": "python",
   "nbconvert_exporter": "python",
   "pygments_lexer": "ipython3",
   "version": "3.9.0-final"
  },
  "orig_nbformat": 2,
  "kernelspec": {
   "name": "python3",
   "display_name": "Python 3"
  }
 },
 "nbformat": 4,
 "nbformat_minor": 2,
 "cells": [
  {
   "cell_type": "code",
   "execution_count": 121,
   "metadata": {},
   "outputs": [],
   "source": [
    "import numpy as np \n",
    "import pandas as pd \n",
    "import matplotlib.pyplot as plt "
   ]
  },
  {
   "cell_type": "code",
   "execution_count": 122,
   "metadata": {},
   "outputs": [
    {
     "output_type": "stream",
     "name": "stdout",
     "text": [
      "     age  restbps  chol  category\n445   54      147   304         1\n442   55      145   318         1\n64    28      109   240         0\n102   23      102   234         0\n512   61      140   372         1\n..   ...      ...   ...       ...\n104   27       99   258         0\n371   42      134   153         0\n207   34      115   264         0\n517   62      147   328         1\n273   36      109   167         0\n\n[700 rows x 4 columns]\n"
     ]
    }
   ],
   "source": [
    "#reading data from CSV file\n",
    "dataset = pd.read_csv('D:\\ELLAssDataset\\health_data.csv')\n",
    "dataset  = dataset.sample(frac = 1)\n",
    "X = dataset.iloc[:,:-1].values\n",
    "y = dataset.iloc[:,-1:].values\n",
    "datasize = X.shape[0]\n",
    "X_train = X[:(datasize*7)//10,:]\n",
    "y_train = y[:(datasize*7)//10,:]\n",
    "X_test = X[(datasize*7)//10:,:]\n",
    "y_test =  y[(datasize*7)//10:,:]\n",
    "print(dataset)"
   ]
  },
  {
   "cell_type": "code",
   "execution_count": 123,
   "metadata": {},
   "outputs": [
    {
     "output_type": "stream",
     "name": "stdout",
     "text": [
      "[[ 54 147 304]\n [ 55 145 318]\n [ 61 140 372]\n [ 57 160 348]\n [ 60 156 234]\n [ 67 153 364]\n [ 63 137 343]\n [ 60 142 357]\n [ 47 135 214]\n [ 56 147 397]\n [ 47 138 217]\n [ 66 147 351]\n [ 66 135 351]\n [ 41 137 262]\n [ 48 138 243]\n [ 40 136 234]\n [ 72 137 310]\n [ 57 137 277]\n [ 36 134 223]\n [ 65 137 370]\n [ 55 152 234]\n [ 58 166 302]\n [ 58 143 366]\n [ 63 145 367]\n [ 49 125 164]\n [ 46 130 331]\n [ 63 139 431]\n [ 43 126 266]\n [ 47 139 259]\n [ 64 151 355]\n [ 45 120 218]\n [ 34 135 251]\n [ 44 119 299]\n [ 50 141 270]\n [ 39 131 239]\n [ 59 173 293]\n [ 45 137 214]\n [ 44 146 204]\n [ 63 172 388]\n [ 60 151 370]\n [ 47 128 265]\n [ 58 156 332]\n [ 45 140 229]\n [ 51 140 319]\n [ 60 148 276]\n [ 59 143 318]\n [ 74 133 324]\n [ 53 135 274]\n [ 47 131 170]\n [ 67 134 324]\n [ 61 139 392]\n [ 67 135 302]\n [ 46 151 322]\n [ 69 143 333]\n [ 49 119 194]\n [ 66 145 348]\n [ 64 136 297]\n [ 58 146 290]\n [ 67 158 395]\n [ 55 161 309]\n [ 55 168 280]\n [ 45 124 160]\n [ 42 116 224]\n [ 34 119 186]\n [ 73 141 383]\n [ 64 126 359]\n [ 64 148 372]\n [ 62 136 247]\n [ 51  98 276]\n [ 53 142 296]\n [ 49 142 302]\n [ 64 155 335]\n [ 56 134 208]\n [ 48 146 289]\n [ 64 142 368]\n [ 69 137 311]\n [ 66 142 329]\n [ 43 126 218]\n [ 45 140 274]\n [ 64 156 344]\n [ 48 131 226]\n [ 64 158 364]\n [ 46 152 325]\n [ 67 154 370]\n [ 57 150 288]\n [ 50 135 315]\n [ 46 136 233]\n [ 65 143 384]\n [ 39 119 247]\n [ 65 138 363]\n [ 56 157 267]\n [ 55 143 285]\n [ 56 157 287]\n [ 75 131 339]\n [ 42 145 219]\n [ 65 151 322]\n [ 59 153 274]\n [ 52 159 290]\n [ 62 146 309]\n [ 46 121 219]\n [ 55 156 321]\n [ 43 130 226]\n [ 38 136 232]\n [ 42 134 153]\n [ 57 128 287]\n [ 58 140 288]\n [ 69 163 364]\n [ 55 143 279]\n [ 52 160 325]\n [ 45 130 214]\n [ 50 146 351]\n [ 71 135 344]\n [ 54 150 316]\n [ 55 149 249]\n [ 68 141 259]\n [ 62 139 312]\n [ 53 123 243]\n [ 61 155 343]\n [ 51 143 272]\n [ 78 155 327]\n [ 48 139 273]\n [ 56 152 285]\n [ 50 131 182]\n [ 48 141 261]\n [ 44 147 233]\n [ 68 149 333]\n [ 40 136 236]\n [ 47 138 252]\n [ 60 145 421]\n [ 65 143 346]\n [ 62 146 370]\n [ 55 138 301]\n [ 51 142 294]\n [ 42 143 254]\n [ 65 126 354]\n [ 55 144 308]\n [ 59 161 285]\n [ 67 133 366]\n [ 54 131 259]\n [ 53 142 256]\n [ 70 143 387]\n [ 51 133 234]\n [ 69 148 348]\n [ 54 155 395]\n [ 65 154 383]\n [ 44 132 184]\n [ 42 132 251]\n [ 50 149 239]\n [ 57 139 247]\n [ 41 137 223]\n [ 56 144 308]\n [ 58 170 261]\n [ 47 137 333]\n [ 45 136 231]\n [ 42 140 201]\n [ 47 128 232]\n [ 42 150 235]\n [ 49 140 248]\n [ 54 142 245]\n [ 56 149 348]\n [ 40 127 202]\n [ 62 136 372]\n [ 74 149 331]\n [ 51 163 311]\n [ 53 152 295]\n [ 39 125 207]\n [ 59 151 314]\n [ 70 150 333]\n [ 50 149 291]\n [ 68 135 308]\n [ 46 126 226]\n [ 68 156 378]\n [ 43 119 239]\n [ 54 156 252]\n [ 39 120 225]\n [ 62 156 371]\n [ 36 133 233]\n [ 54 153 277]\n [ 53 165 306]\n [ 45 150 149]\n [ 55 158 286]\n [ 46 149 264]\n [ 43 128 213]\n [ 54 161 264]\n [ 55 156 246]\n [ 45 146 251]\n [ 45 142 195]\n [ 54 135 241]\n [ 50 137 189]\n [ 62 134 366]\n [ 55 133 291]\n [ 58 140 340]\n [ 46 157 292]\n [ 63 146 370]\n [ 64 145 355]\n [ 71 137 382]\n [ 67 154 338]\n [ 66 137 393]\n [ 74 167 378]\n [ 47 111 202]\n [ 45 144 309]\n [ 38 138 249]\n [ 71 136 395]\n [ 66 131 345]\n [ 47 133 254]\n [ 61 127 351]\n [ 59 161 296]\n [ 54 123 143]\n [ 65 159 351]\n [ 58 145 236]\n [ 62 144 314]\n [ 62 145 384]\n [ 40 137 191]]\n"
     ]
    }
   ],
   "source": [
    "X_train_0 = X_train[y_train[:,0]==0]\n",
    "X_train_1 = X_train[y_train[:,0]==1]\n",
    "print(X_train_1)"
   ]
  },
  {
   "cell_type": "code",
   "execution_count": 124,
   "metadata": {},
   "outputs": [],
   "source": [
    "#Multivariate gaussian distribution\n",
    "def Multivariate_gaussian(inp,mean,covariance):\n",
    "    det_covariance = np.linalg.det(covariance)\n",
    "    front = ((2*np.pi)**3)*det_covariance\n",
    "    front = pow(front, 0.5)\n",
    "    front = 1/front\n",
    "    exp = np.matmul(np.transpose(inp - mean),np.linalg.inv(covariance))\n",
    "    exp = np.matmul(exp,inp-mean)\n",
    "    exp = np.exp(-0.5*exp)\n",
    "    ret = front*exp\n",
    "    return ret"
   ]
  },
  {
   "cell_type": "code",
   "execution_count": 125,
   "metadata": {},
   "outputs": [
    {
     "output_type": "stream",
     "name": "stdout",
     "text": [
      "[ 32.39711191 114.01083032 231.41516245]\n[[ 91.12750068  99.44335258 -16.19735693]\n [ 99.44335258 166.92768054 -25.49908118]\n [-16.19735693 -25.49908118 875.21753183]]\n"
     ]
    }
   ],
   "source": [
    "#Calculating the mean and Variance for the class 0\n",
    "N_0 = X_train_0.shape[0]\n",
    "mean_0 = (1/N_0)*np.sum(X_train_0, axis = 0)\n",
    "print(mean_0)\n",
    "covariance_0 = (1/N_0)*(np.matmul(np.transpose(X_train_0-mean_0),X_train_0 - mean_0))\n",
    "print(covariance_0)"
   ]
  },
  {
   "cell_type": "code",
   "execution_count": 126,
   "metadata": {},
   "outputs": [
    {
     "output_type": "stream",
     "name": "stdout",
     "text": [
      "[ 54.90610329 141.90140845 291.1314554 ]\n[[  92.83625383   41.49778483  434.82924464]\n [  41.49778483  142.3048337   289.25709185]\n [ 434.82924464  289.25709185 3771.87004342]]\n"
     ]
    }
   ],
   "source": [
    "#Calculating the mean and covariance matrix for the class 1\n",
    "N_1 = X_train_1.shape[0]\n",
    "mean_1 = (1/N_1)*np.sum(X_train_1, axis = 0)\n",
    "covariance_1 = (1/N_1)*(np.matmul(np.transpose(X_train_1-mean_1),X_train_1 - mean_1))\n",
    "print(mean_1)\n",
    "print(covariance_1)"
   ]
  },
  {
   "cell_type": "code",
   "execution_count": 127,
   "metadata": {},
   "outputs": [],
   "source": [
    "def predict(inp):\n",
    "    p_0 = Multivariate_gaussian(inp,mean_0,covariance_0)\n",
    "    p_1 = Multivariate_gaussian(inp,mean_1,covariance_1)\n",
    "    if p_0 > p_1:\n",
    "        return 0\n",
    "    else:\n",
    "        return 1"
   ]
  },
  {
   "cell_type": "code",
   "execution_count": 128,
   "metadata": {},
   "outputs": [],
   "source": [
    "def Accuracy_of_classifier(test_X,test_y):\n",
    "    count = 0\n",
    "    score = [[0,0] for i in range(2)]\n",
    "    for i in range(test_X.shape[0]):\n",
    "        pred_cat = predict(test_X[i])\n",
    "        score[test_y[i][0]][pred_cat]+=1\n",
    "        if test_y[i][0]==pred_cat:\n",
    "            count+=1\n",
    "    print(score)\n",
    "    precision = score[1][1]/(score[0][1]+score[1][1])\n",
    "    recall = score[1][1]/(score[1][0]+score[1][1])\n",
    "    F1 = (2*precision*recall)/(precision+recall)\n",
    "    print(\"Accuracy: {} %\".format(count*100/len(test_X)))\n",
    "    print(\"Precision: {}\".format(precision))\n",
    "    print(\"Recall: {}\".format(recall))\n",
    "    print(\"F1 Score: {}\".format(F1))\n"
   ]
  },
  {
   "cell_type": "code",
   "execution_count": 129,
   "metadata": {},
   "outputs": [
    {
     "output_type": "stream",
     "name": "stdout",
     "text": [
      "[[235, 42], [29, 184]]\nAccuracy: 85.51020408163265 %\nPrecision: 0.8141592920353983\nRecall: 0.863849765258216\nF1 Score: 0.8382687927107062\n"
     ]
    }
   ],
   "source": [
    "Accuracy_of_classifier(X_train,y_train)"
   ]
  },
  {
   "cell_type": "code",
   "execution_count": 130,
   "metadata": {},
   "outputs": [
    {
     "output_type": "stream",
     "name": "stdout",
     "text": [
      "[[110, 13], [16, 71]]\nAccuracy: 86.19047619047619 %\nPrecision: 0.8452380952380952\nRecall: 0.8160919540229885\nF1 Score: 0.8304093567251463\n"
     ]
    }
   ],
   "source": [
    "Accuracy_of_classifier(X_test, y_test)"
   ]
  },
  {
   "cell_type": "code",
   "execution_count": null,
   "metadata": {},
   "outputs": [],
   "source": []
  }
 ]
}