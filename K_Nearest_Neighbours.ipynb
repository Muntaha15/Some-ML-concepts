{
 "metadata": {
  "language_info": {
   "codemirror_mode": {
    "name": "ipython",
    "version": 3
   },
   "file_extension": ".py",
   "mimetype": "text/x-python",
   "name": "python",
   "nbconvert_exporter": "python",
   "pygments_lexer": "ipython3",
   "version": "3.9.0-final"
  },
  "orig_nbformat": 2,
  "kernelspec": {
   "name": "python3",
   "display_name": "Python 3"
  }
 },
 "nbformat": 4,
 "nbformat_minor": 2,
 "cells": [
  {
   "cell_type": "code",
   "execution_count": 1,
   "metadata": {},
   "outputs": [],
   "source": [
    "import numpy as np\n",
    "import pandas as pd \n",
    "import matplotlib.pyplot as plt"
   ]
  },
  {
   "cell_type": "code",
   "execution_count": 2,
   "metadata": {},
   "outputs": [],
   "source": [
    "dataset = pd.read_csv('D:\\ELLAssDataset\\health_data.csv')\n",
    "dataset = dataset.sample(frac = 1)\n",
    "datasize  = dataset.shape[0]\n",
    "train = dataset.values[:(datasize*7)//10]\n",
    "test = dataset.values[(datasize*7)//10:]"
   ]
  },
  {
   "cell_type": "code",
   "execution_count": 3,
   "metadata": {},
   "outputs": [
    {
     "output_type": "execute_result",
     "data": {
      "text/plain": [
       "array([[ 59, 151, 314,   1],\n",
       "       [ 45, 130, 214,   1],\n",
       "       [ 60, 137, 250,   1],\n",
       "       ...,\n",
       "       [ 24, 105, 164,   0],\n",
       "       [ 58, 143, 366,   1],\n",
       "       [ 45, 136, 231,   1]], dtype=int64)"
      ]
     },
     "metadata": {},
     "execution_count": 3
    }
   ],
   "source": [
    "train"
   ]
  },
  {
   "cell_type": "code",
   "execution_count": 4,
   "metadata": {},
   "outputs": [],
   "source": [
    "#function to calculate euclidean distance \n",
    "def euclidean_distance(a,b,length):\n",
    "    distance = 0\n",
    "    for i in range(length):\n",
    "        distance+= pow(a[i]-b[i],2)\n",
    "    distance = pow(distance,0.5)\n",
    "    return distance"
   ]
  },
  {
   "cell_type": "code",
   "execution_count": 5,
   "metadata": {},
   "outputs": [],
   "source": [
    "#To get the nearest K neighbours\n",
    "def get_nearest_K_neighbours(train,test_instance,K):\n",
    "    distances = []\n",
    "    for row in train:\n",
    "        dist = euclidean_distance(row,test_instance,3)\n",
    "        distances.append([dist,row])\n",
    "    distances.sort(key = lambda x:x[0])\n",
    "    neighbours = []\n",
    "    for i in range(K):\n",
    "        neighbours.append(distances[i])\n",
    "    return neighbours"
   ]
  },
  {
   "cell_type": "code",
   "execution_count": 6,
   "metadata": {},
   "outputs": [
    {
     "output_type": "execute_result",
     "data": {
      "text/plain": [
       "0"
      ]
     },
     "metadata": {},
     "execution_count": 6
    }
   ],
   "source": [
    "neighbours = get_nearest_K_neighbours(train,(25,95,263,0),3)\n",
    "neighbours[0][-1][-1]"
   ]
  },
  {
   "cell_type": "code",
   "execution_count": 7,
   "metadata": {},
   "outputs": [],
   "source": [
    "def predict(train,test_instance,K,num_classes = 2):\n",
    "    neighbours = get_nearest_K_neighbours(train,test_instance,K)\n",
    "    votes_for_classes = [0 for i in range(num_classes)]\n",
    "    for i in range(K):\n",
    "        votes_for_classes[neighbours[i][-1][-1]]+=1\n",
    "    pred_class = votes_for_classes.index(max(votes_for_classes))\n",
    "    return pred_class\n",
    "\n"
   ]
  },
  {
   "cell_type": "code",
   "execution_count": 13,
   "metadata": {},
   "outputs": [],
   "source": [
    "def accuracy_of_classifier(train,test,K,num_classes = 2):\n",
    "    count = 0\n",
    "    score = [[0,0] for i in range(num_classes)]\n",
    "    for i in range(test.shape[0]):\n",
    "        pred_class = predict(train,test[i],K,num_classes)\n",
    "        score[test[i][-1]][pred_class]+=1\n",
    "        if test[i][-1]==pred_class:\n",
    "            count+=1\n",
    "    precision = score[1][1]/(score[0][1]+score[1][1])\n",
    "    recall = score[1][1]/(score[1][0]+score[1][1])\n",
    "    F1 = (2*precision*recall)/(precision+recall)\n",
    "    print(\"Accuracy: {} %\".format(count*100/len(test)))\n",
    "    print(\"Precision: {}\".format(precision))\n",
    "    print(\"Recall: {}\".format(recall))\n",
    "    print(\"F1 Score: {}\".format(F1))"
   ]
  },
  {
   "cell_type": "code",
   "execution_count": 23,
   "metadata": {},
   "outputs": [
    {
     "output_type": "stream",
     "name": "stdout",
     "text": [
      "Accuracy: 79.52380952380952%\nPrecision: 0.8529411764705882\nRecall: 0.6373626373626373\nF1 Score: 0.7295597484276729\n"
     ]
    }
   ],
   "source": [
    "accuracy_of_classifier(train,test,4)"
   ]
  },
  {
   "cell_type": "code",
   "execution_count": null,
   "metadata": {},
   "outputs": [],
   "source": []
  }
 ]
}