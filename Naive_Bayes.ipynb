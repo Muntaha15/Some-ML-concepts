{
 "metadata": {
  "language_info": {
   "codemirror_mode": {
    "name": "ipython",
    "version": 3
   },
   "file_extension": ".py",
   "mimetype": "text/x-python",
   "name": "python",
   "nbconvert_exporter": "python",
   "pygments_lexer": "ipython3",
   "version": "3.9.0-final"
  },
  "orig_nbformat": 2,
  "kernelspec": {
   "name": "python3",
   "display_name": "Python 3"
  }
 },
 "nbformat": 4,
 "nbformat_minor": 2,
 "cells": [
  {
   "cell_type": "code",
   "execution_count": 1,
   "metadata": {},
   "outputs": [],
   "source": [
    "import numpy as np\n",
    "import pandas as pd \n",
    "import matplotlib.pyplot as plt"
   ]
  },
  {
   "cell_type": "code",
   "execution_count": 2,
   "metadata": {},
   "outputs": [],
   "source": [
    "#reading data from csv file\n",
    "dataset =  pd.read_csv('D:\\ELLAssDataset\\health_data.csv')\n",
    "X = dataset.iloc[:,:-1].values\n",
    "y = dataset.iloc[:,-1:].values"
   ]
  },
  {
   "cell_type": "code",
   "execution_count": 16,
   "metadata": {},
   "outputs": [
    {
     "output_type": "execute_result",
     "data": {
      "text/plain": [
       "     age  restbps  chol  category\n",
       "0     26      109   243         0\n",
       "1     27      106   156         0\n",
       "2     28      107   225         0\n",
       "3     27      105   277         0\n",
       "4     30       96   221         0\n",
       "..   ...      ...   ...       ...\n",
       "695   47      111   202         1\n",
       "696   58      145   236         1\n",
       "697   46      121   219         1\n",
       "698   43      119   239         1\n",
       "699   42      132   251         1\n",
       "\n",
       "[700 rows x 4 columns]"
      ],
      "text/html": "<div>\n<style scoped>\n    .dataframe tbody tr th:only-of-type {\n        vertical-align: middle;\n    }\n\n    .dataframe tbody tr th {\n        vertical-align: top;\n    }\n\n    .dataframe thead th {\n        text-align: right;\n    }\n</style>\n<table border=\"1\" class=\"dataframe\">\n  <thead>\n    <tr style=\"text-align: right;\">\n      <th></th>\n      <th>age</th>\n      <th>restbps</th>\n      <th>chol</th>\n      <th>category</th>\n    </tr>\n  </thead>\n  <tbody>\n    <tr>\n      <th>0</th>\n      <td>26</td>\n      <td>109</td>\n      <td>243</td>\n      <td>0</td>\n    </tr>\n    <tr>\n      <th>1</th>\n      <td>27</td>\n      <td>106</td>\n      <td>156</td>\n      <td>0</td>\n    </tr>\n    <tr>\n      <th>2</th>\n      <td>28</td>\n      <td>107</td>\n      <td>225</td>\n      <td>0</td>\n    </tr>\n    <tr>\n      <th>3</th>\n      <td>27</td>\n      <td>105</td>\n      <td>277</td>\n      <td>0</td>\n    </tr>\n    <tr>\n      <th>4</th>\n      <td>30</td>\n      <td>96</td>\n      <td>221</td>\n      <td>0</td>\n    </tr>\n    <tr>\n      <th>...</th>\n      <td>...</td>\n      <td>...</td>\n      <td>...</td>\n      <td>...</td>\n    </tr>\n    <tr>\n      <th>695</th>\n      <td>47</td>\n      <td>111</td>\n      <td>202</td>\n      <td>1</td>\n    </tr>\n    <tr>\n      <th>696</th>\n      <td>58</td>\n      <td>145</td>\n      <td>236</td>\n      <td>1</td>\n    </tr>\n    <tr>\n      <th>697</th>\n      <td>46</td>\n      <td>121</td>\n      <td>219</td>\n      <td>1</td>\n    </tr>\n    <tr>\n      <th>698</th>\n      <td>43</td>\n      <td>119</td>\n      <td>239</td>\n      <td>1</td>\n    </tr>\n    <tr>\n      <th>699</th>\n      <td>42</td>\n      <td>132</td>\n      <td>251</td>\n      <td>1</td>\n    </tr>\n  </tbody>\n</table>\n<p>700 rows × 4 columns</p>\n</div>"
     },
     "metadata": {},
     "execution_count": 16
    }
   ],
   "source": [
    "dataset"
   ]
  },
  {
   "cell_type": "code",
   "execution_count": 8,
   "metadata": {},
   "outputs": [
    {
     "output_type": "execute_result",
     "data": {
      "text/plain": [
       "array([[ 26, 109, 243,   0],\n",
       "       [ 27, 106, 156,   0],\n",
       "       [ 28, 107, 225,   0],\n",
       "       ...,\n",
       "       [ 46, 121, 219,   1],\n",
       "       [ 43, 119, 239,   1],\n",
       "       [ 42, 132, 251,   1]], dtype=int64)"
      ]
     },
     "metadata": {},
     "execution_count": 8
    }
   ],
   "source": [
    "dataset.values"
   ]
  },
  {
   "cell_type": "code",
   "execution_count": 15,
   "metadata": {},
   "outputs": [
    {
     "output_type": "execute_result",
     "data": {
      "text/plain": [
       "(210, 4)"
      ]
     },
     "metadata": {},
     "execution_count": 15
    }
   ],
   "source": [
    "datasize  = dataset.shape[0]\n",
    "train = dataset.values[:(datasize*7)//10]\n",
    "train.shape\n",
    "test = dataset.values[(datasize*7)//10:]\n",
    "test.shape"
   ]
  },
  {
   "cell_type": "code",
   "execution_count": 31,
   "metadata": {},
   "outputs": [
    {
     "output_type": "execute_result",
     "data": {
      "text/plain": [
       "(90, 4)"
      ]
     },
     "metadata": {},
     "execution_count": 31
    }
   ],
   "source": [
    "#to seperate classwise\n",
    "class_zero = train[train[:,-1] == 0]\n",
    "class_one = train[train[:,-1] == 1]\n",
    "class_zero.shape\n",
    "class_one.shape"
   ]
  },
  {
   "cell_type": "code",
   "execution_count": 36,
   "metadata": {},
   "outputs": [
    {
     "output_type": "stream",
     "name": "stdout",
     "text": [
      "[ 32.05   113.8075 230.1225   0.    ]\n[ 54.3        147.92222222 288.1          1.        ]\n"
     ]
    }
   ],
   "source": [
    "mean_zero = np.mean(class_zero,axis=0)\n",
    "print(mean_zero)\n",
    "mean_one =  np.mean(class_one,axis=0)\n",
    "print(mean_one)"
   ]
  },
  {
   "cell_type": "code",
   "execution_count": 37,
   "metadata": {},
   "outputs": [
    {
     "output_type": "stream",
     "name": "stdout",
     "text": [
      "[ 9.07537878 12.70690536 31.41675498  0.        ]\n[ 4.67487374  9.89301412 30.27542091  0.        ]\n"
     ]
    }
   ],
   "source": [
    "std_dev_zero = np.std(class_zero,axis = 0)\n",
    "print(std_dev_zero)\n",
    "std_dev_one = np.std(class_one, axis= 0)\n",
    "print(std_dev_one)"
   ]
  },
  {
   "cell_type": "code",
   "execution_count": null,
   "metadata": {},
   "outputs": [],
   "source": []
  }
 ]
}