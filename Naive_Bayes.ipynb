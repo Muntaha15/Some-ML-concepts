{
 "metadata": {
  "language_info": {
   "codemirror_mode": {
    "name": "ipython",
    "version": 3
   },
   "file_extension": ".py",
   "mimetype": "text/x-python",
   "name": "python",
   "nbconvert_exporter": "python",
   "pygments_lexer": "ipython3",
   "version": "3.9.0-final"
  },
  "orig_nbformat": 2,
  "kernelspec": {
   "name": "python3",
   "display_name": "Python 3"
  }
 },
 "nbformat": 4,
 "nbformat_minor": 2,
 "cells": [
  {
   "cell_type": "code",
   "execution_count": 53,
   "metadata": {},
   "outputs": [],
   "source": [
    "import numpy as np\n",
    "import pandas as pd \n",
    "import matplotlib.pyplot as plt"
   ]
  },
  {
   "cell_type": "code",
   "execution_count": 54,
   "metadata": {},
   "outputs": [],
   "source": [
    "#reading data from csv file\n",
    "dataset =  pd.read_csv('D:\\ELLAssDataset\\health_data.csv')\n",
    "X = dataset.iloc[:,:-1].values\n",
    "y = dataset.iloc[:,-1:].values\n",
    "dataset = dataset.sample(frac = 1)"
   ]
  },
  {
   "cell_type": "code",
   "execution_count": 55,
   "metadata": {},
   "outputs": [
    {
     "output_type": "execute_result",
     "data": {
      "text/plain": [
       "     age  restbps  chol  category\n",
       "130   26      110   232         0\n",
       "602   49      130   240         1\n",
       "24    21      113   216         0\n",
       "514   61      143   433         1\n",
       "529   62      144   314         1\n",
       "..   ...      ...   ...       ...\n",
       "286   38      108   191         0\n",
       "367   41      121   239         0\n",
       "409   55      143   285         1\n",
       "177   27      104   234         0\n",
       "142   24      109   238         0\n",
       "\n",
       "[700 rows x 4 columns]"
      ],
      "text/html": "<div>\n<style scoped>\n    .dataframe tbody tr th:only-of-type {\n        vertical-align: middle;\n    }\n\n    .dataframe tbody tr th {\n        vertical-align: top;\n    }\n\n    .dataframe thead th {\n        text-align: right;\n    }\n</style>\n<table border=\"1\" class=\"dataframe\">\n  <thead>\n    <tr style=\"text-align: right;\">\n      <th></th>\n      <th>age</th>\n      <th>restbps</th>\n      <th>chol</th>\n      <th>category</th>\n    </tr>\n  </thead>\n  <tbody>\n    <tr>\n      <th>130</th>\n      <td>26</td>\n      <td>110</td>\n      <td>232</td>\n      <td>0</td>\n    </tr>\n    <tr>\n      <th>602</th>\n      <td>49</td>\n      <td>130</td>\n      <td>240</td>\n      <td>1</td>\n    </tr>\n    <tr>\n      <th>24</th>\n      <td>21</td>\n      <td>113</td>\n      <td>216</td>\n      <td>0</td>\n    </tr>\n    <tr>\n      <th>514</th>\n      <td>61</td>\n      <td>143</td>\n      <td>433</td>\n      <td>1</td>\n    </tr>\n    <tr>\n      <th>529</th>\n      <td>62</td>\n      <td>144</td>\n      <td>314</td>\n      <td>1</td>\n    </tr>\n    <tr>\n      <th>...</th>\n      <td>...</td>\n      <td>...</td>\n      <td>...</td>\n      <td>...</td>\n    </tr>\n    <tr>\n      <th>286</th>\n      <td>38</td>\n      <td>108</td>\n      <td>191</td>\n      <td>0</td>\n    </tr>\n    <tr>\n      <th>367</th>\n      <td>41</td>\n      <td>121</td>\n      <td>239</td>\n      <td>0</td>\n    </tr>\n    <tr>\n      <th>409</th>\n      <td>55</td>\n      <td>143</td>\n      <td>285</td>\n      <td>1</td>\n    </tr>\n    <tr>\n      <th>177</th>\n      <td>27</td>\n      <td>104</td>\n      <td>234</td>\n      <td>0</td>\n    </tr>\n    <tr>\n      <th>142</th>\n      <td>24</td>\n      <td>109</td>\n      <td>238</td>\n      <td>0</td>\n    </tr>\n  </tbody>\n</table>\n<p>700 rows × 4 columns</p>\n</div>"
     },
     "metadata": {},
     "execution_count": 55
    }
   ],
   "source": [
    "dataset"
   ]
  },
  {
   "cell_type": "code",
   "execution_count": 56,
   "metadata": {},
   "outputs": [
    {
     "output_type": "execute_result",
     "data": {
      "text/plain": [
       "array([[ 26, 110, 232,   0],\n",
       "       [ 49, 130, 240,   1],\n",
       "       [ 21, 113, 216,   0],\n",
       "       ...,\n",
       "       [ 55, 143, 285,   1],\n",
       "       [ 27, 104, 234,   0],\n",
       "       [ 24, 109, 238,   0]], dtype=int64)"
      ]
     },
     "metadata": {},
     "execution_count": 56
    }
   ],
   "source": [
    "dataset.values"
   ]
  },
  {
   "cell_type": "code",
   "execution_count": 57,
   "metadata": {},
   "outputs": [
    {
     "output_type": "execute_result",
     "data": {
      "text/plain": [
       "(210, 4)"
      ]
     },
     "metadata": {},
     "execution_count": 57
    }
   ],
   "source": [
    "datasize  = dataset.shape[0]\n",
    "train = dataset.values[:(datasize*7)//10]\n",
    "train.shape\n",
    "test = dataset.values[(datasize*7)//10:]\n",
    "test.shape"
   ]
  },
  {
   "cell_type": "code",
   "execution_count": 58,
   "metadata": {},
   "outputs": [
    {
     "output_type": "execute_result",
     "data": {
      "text/plain": [
       "(213, 4)"
      ]
     },
     "metadata": {},
     "execution_count": 58
    }
   ],
   "source": [
    "#to seperate classwise\n",
    "class_zero = train[train[:,-1] == 0]\n",
    "class_one = train[train[:,-1] == 1]\n",
    "class_zero.shape\n",
    "class_one.shape"
   ]
  },
  {
   "cell_type": "code",
   "execution_count": 59,
   "metadata": {},
   "outputs": [
    {
     "output_type": "stream",
     "name": "stdout",
     "text": [
      "[ 32.44043321 114.41877256 229.34296029   0.        ]\n[ 54.04694836 140.73239437 287.72300469   1.        ]\n"
     ]
    }
   ],
   "source": [
    "mean_zero = np.mean(class_zero,axis=0)\n",
    "print(mean_zero)\n",
    "mean_one =  np.mean(class_one,axis=0)\n",
    "print(mean_one)"
   ]
  },
  {
   "cell_type": "code",
   "execution_count": 60,
   "metadata": {},
   "outputs": [
    {
     "output_type": "stream",
     "name": "stdout",
     "text": [
      "[ 9.17386555 12.74428057 32.75807938  0.        ]\n[ 9.60915314 11.87567571 60.62060331  0.        ]\n"
     ]
    }
   ],
   "source": [
    "std_dev_zero = np.std(class_zero,axis = 0)\n",
    "print(std_dev_zero)\n",
    "std_dev_one = np.std(class_one, axis= 0)\n",
    "print(std_dev_one)"
   ]
  },
  {
   "source": [
    "#Calculating the Gaussian probability distribution function \n",
    "def calculate_probability(inp,mean,std_dev):\n",
    "    p = 1\n",
    "    for i in range(len(mean)-1):\n",
    "        p*= (1/(std_dev[i]*pow(2*(np.pi),0.5)))*np.exp(-0.5*((inp[i]-mean[i])**2/std_dev[i]**2))\n",
    "    return p\n",
    "#print(calculate_probability([1],[1],[1]))"
   ],
   "cell_type": "code",
   "metadata": {},
   "execution_count": 61,
   "outputs": []
  },
  {
   "cell_type": "code",
   "execution_count": 62,
   "metadata": {},
   "outputs": [],
   "source": [
    "def predict(inp):\n",
    "    p_0 = calculate_probability(inp,mean_zero,std_dev_zero)\n",
    "    p_1 = calculate_probability(inp,mean_one,std_dev_one)\n",
    "    if p_0>p_1:\n",
    "        return 0\n",
    "    else:\n",
    "        return 1"
   ]
  },
  {
   "cell_type": "code",
   "execution_count": 63,
   "metadata": {},
   "outputs": [],
   "source": [
    "def Accuracy_of_classifier(test):\n",
    "    count = 0\n",
    "    score = [[0,0] for i in range(2)]\n",
    "    for i in range(test.shape[0]):\n",
    "        pred_cat = predict(test[i])\n",
    "        score[test[i][-1]][pred_cat]+=1\n",
    "        if test[i][-1]==pred_cat:\n",
    "            count+=1\n",
    "    print(\"tp: {}\".format(score[0][0]),\"tn: {}\".format(score[1][1]),\"fp: {}\".format(score[0][1]), \"fn: {}\".format(score[1][0]))\n",
    "    precision = score[1][1]/(score[0][1]+score[1][1])\n",
    "    recall = score[1][1]/(score[1][0]+score[1][1])\n",
    "    F1 = (2*precision*recall)/(precision+recall)\n",
    "    print(\"Accuracy: {} %\".format(count*100/len(test)))\n",
    "    print(\"Precision: {}\".format(precision))\n",
    "    print(\"Recall: {}\".format(recall))\n",
    "    print(\"F1 Score: {}\".format(F1))\n"
   ]
  },
  {
   "cell_type": "code",
   "execution_count": 64,
   "metadata": {},
   "outputs": [
    {
     "output_type": "stream",
     "name": "stdout",
     "text": [
      "tp: 108 tn: 76 fp: 15 fn: 11\nAccuracy: 87.61904761904762 %\nPrecision: 0.8351648351648352\nRecall: 0.8735632183908046\nF1 Score: 0.853932584269663\n"
     ]
    }
   ],
   "source": [
    "Accuracy_of_classifier(test)"
   ]
  },
  {
   "cell_type": "code",
   "execution_count": 65,
   "metadata": {},
   "outputs": [
    {
     "output_type": "stream",
     "name": "stdout",
     "text": [
      "tp: 240 tn: 176 fp: 37 fn: 37\nAccuracy: 84.89795918367346 %\nPrecision: 0.8262910798122066\nRecall: 0.8262910798122066\nF1 Score: 0.8262910798122065\n"
     ]
    }
   ],
   "source": [
    "Accuracy_of_classifier(train)"
   ]
  },
  {
   "cell_type": "code",
   "execution_count": null,
   "metadata": {},
   "outputs": [],
   "source": []
  }
 ]
}