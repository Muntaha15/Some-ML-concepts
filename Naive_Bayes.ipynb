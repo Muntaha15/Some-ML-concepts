{
 "metadata": {
  "language_info": {
   "codemirror_mode": {
    "name": "ipython",
    "version": 3
   },
   "file_extension": ".py",
   "mimetype": "text/x-python",
   "name": "python",
   "nbconvert_exporter": "python",
   "pygments_lexer": "ipython3",
   "version": "3.9.0-final"
  },
  "orig_nbformat": 2,
  "kernelspec": {
   "name": "python3",
   "display_name": "Python 3"
  }
 },
 "nbformat": 4,
 "nbformat_minor": 2,
 "cells": [
  {
   "cell_type": "code",
   "execution_count": 1,
   "metadata": {},
   "outputs": [],
   "source": [
    "import numpy as np\n",
    "import pandas as pd \n",
    "import matplotlib.pyplot as plt"
   ]
  },
  {
   "cell_type": "code",
   "execution_count": 2,
   "metadata": {},
   "outputs": [],
   "source": [
    "#reading data from csv file\n",
    "dataset =  pd.read_csv('D:\\ELLAssDataset\\health_data.csv')\n",
    "X = dataset.iloc[:,:-1].values\n",
    "y = dataset.iloc[:,-1:].values\n",
    "dataset = dataset.sample(frac = 1)"
   ]
  },
  {
   "cell_type": "code",
   "execution_count": 3,
   "metadata": {},
   "outputs": [
    {
     "output_type": "execute_result",
     "data": {
      "text/plain": [
       "     age  restbps  chol  category\n",
       "420   48      146   289         1\n",
       "121   23      101   236         0\n",
       "197   22      105   296         0\n",
       "208   33      116   161         0\n",
       "612   43      156   257         1\n",
       "..   ...      ...   ...       ...\n",
       "328   39      131   239         0\n",
       "693   45      144   309         1\n",
       "337   50      131   182         0\n",
       "664   44      119   235         1\n",
       "186   25      102   202         0\n",
       "\n",
       "[700 rows x 4 columns]"
      ],
      "text/html": "<div>\n<style scoped>\n    .dataframe tbody tr th:only-of-type {\n        vertical-align: middle;\n    }\n\n    .dataframe tbody tr th {\n        vertical-align: top;\n    }\n\n    .dataframe thead th {\n        text-align: right;\n    }\n</style>\n<table border=\"1\" class=\"dataframe\">\n  <thead>\n    <tr style=\"text-align: right;\">\n      <th></th>\n      <th>age</th>\n      <th>restbps</th>\n      <th>chol</th>\n      <th>category</th>\n    </tr>\n  </thead>\n  <tbody>\n    <tr>\n      <th>420</th>\n      <td>48</td>\n      <td>146</td>\n      <td>289</td>\n      <td>1</td>\n    </tr>\n    <tr>\n      <th>121</th>\n      <td>23</td>\n      <td>101</td>\n      <td>236</td>\n      <td>0</td>\n    </tr>\n    <tr>\n      <th>197</th>\n      <td>22</td>\n      <td>105</td>\n      <td>296</td>\n      <td>0</td>\n    </tr>\n    <tr>\n      <th>208</th>\n      <td>33</td>\n      <td>116</td>\n      <td>161</td>\n      <td>0</td>\n    </tr>\n    <tr>\n      <th>612</th>\n      <td>43</td>\n      <td>156</td>\n      <td>257</td>\n      <td>1</td>\n    </tr>\n    <tr>\n      <th>...</th>\n      <td>...</td>\n      <td>...</td>\n      <td>...</td>\n      <td>...</td>\n    </tr>\n    <tr>\n      <th>328</th>\n      <td>39</td>\n      <td>131</td>\n      <td>239</td>\n      <td>0</td>\n    </tr>\n    <tr>\n      <th>693</th>\n      <td>45</td>\n      <td>144</td>\n      <td>309</td>\n      <td>1</td>\n    </tr>\n    <tr>\n      <th>337</th>\n      <td>50</td>\n      <td>131</td>\n      <td>182</td>\n      <td>0</td>\n    </tr>\n    <tr>\n      <th>664</th>\n      <td>44</td>\n      <td>119</td>\n      <td>235</td>\n      <td>1</td>\n    </tr>\n    <tr>\n      <th>186</th>\n      <td>25</td>\n      <td>102</td>\n      <td>202</td>\n      <td>0</td>\n    </tr>\n  </tbody>\n</table>\n<p>700 rows × 4 columns</p>\n</div>"
     },
     "metadata": {},
     "execution_count": 3
    }
   ],
   "source": [
    "dataset"
   ]
  },
  {
   "cell_type": "code",
   "execution_count": 4,
   "metadata": {},
   "outputs": [
    {
     "output_type": "execute_result",
     "data": {
      "text/plain": [
       "array([[ 48, 146, 289,   1],\n",
       "       [ 23, 101, 236,   0],\n",
       "       [ 22, 105, 296,   0],\n",
       "       ...,\n",
       "       [ 50, 131, 182,   0],\n",
       "       [ 44, 119, 235,   1],\n",
       "       [ 25, 102, 202,   0]], dtype=int64)"
      ]
     },
     "metadata": {},
     "execution_count": 4
    }
   ],
   "source": [
    "dataset.values"
   ]
  },
  {
   "cell_type": "code",
   "execution_count": 5,
   "metadata": {},
   "outputs": [
    {
     "output_type": "execute_result",
     "data": {
      "text/plain": [
       "(210, 4)"
      ]
     },
     "metadata": {},
     "execution_count": 5
    }
   ],
   "source": [
    "datasize  = dataset.shape[0]\n",
    "train = dataset.values[:(datasize*7)//10]\n",
    "train.shape\n",
    "test = dataset.values[(datasize*7)//10:]\n",
    "test.shape"
   ]
  },
  {
   "cell_type": "code",
   "execution_count": 6,
   "metadata": {},
   "outputs": [
    {
     "output_type": "execute_result",
     "data": {
      "text/plain": [
       "(222, 4)"
      ]
     },
     "metadata": {},
     "execution_count": 6
    }
   ],
   "source": [
    "#to seperate classwise\n",
    "class_zero = train[train[:,-1] == 0]\n",
    "class_one = train[train[:,-1] == 1]\n",
    "class_zero.shape\n",
    "class_one.shape"
   ]
  },
  {
   "cell_type": "code",
   "execution_count": 7,
   "metadata": {},
   "outputs": [
    {
     "output_type": "stream",
     "name": "stdout",
     "text": [
      "[ 32.17910448 114.20149254 231.18283582   0.        ]\n[ 54.43693694 141.3963964  288.16216216   1.        ]\n"
     ]
    }
   ],
   "source": [
    "mean_zero = np.mean(class_zero,axis=0)\n",
    "print(mean_zero)\n",
    "mean_one =  np.mean(class_one,axis=0)\n",
    "print(mean_one)"
   ]
  },
  {
   "cell_type": "code",
   "execution_count": 8,
   "metadata": {},
   "outputs": [
    {
     "output_type": "stream",
     "name": "stdout",
     "text": [
      "[ 9.00402128 13.15395625 30.75323312  0.        ]\n[ 9.25918514 12.12121904 61.26703338  0.        ]\n"
     ]
    }
   ],
   "source": [
    "std_dev_zero = np.std(class_zero,axis = 0)\n",
    "print(std_dev_zero)\n",
    "std_dev_one = np.std(class_one, axis= 0)\n",
    "print(std_dev_one)"
   ]
  },
  {
   "source": [
    "#Calculating the Gaussian probability distribution function \n",
    "def calculate_probability(inp,mean,std_dev):\n",
    "    p = 1\n",
    "    for i in range(len(mean)-1):\n",
    "        p*= (1/(std_dev[i]*pow(2*(np.pi),0.5)))*np.exp(-0.5*((inp[i]-mean[i])**2/std_dev[i]**2))\n",
    "    return p\n",
    "#print(calculate_probability([1],[1],[1]))"
   ],
   "cell_type": "code",
   "metadata": {},
   "execution_count": 9,
   "outputs": []
  },
  {
   "cell_type": "code",
   "execution_count": 10,
   "metadata": {},
   "outputs": [],
   "source": [
    "def predict(inp):\n",
    "    p_0 = calculate_probability(inp,mean_zero,std_dev_zero)\n",
    "    p_1 = calculate_probability(inp,mean_one,std_dev_one)\n",
    "    if p_0>p_1:\n",
    "        return 0\n",
    "    else:\n",
    "        return 1"
   ]
  },
  {
   "cell_type": "code",
   "execution_count": 11,
   "metadata": {},
   "outputs": [],
   "source": [
    "def Accuracy_of_classifier(test):\n",
    "    count = 0\n",
    "    score = [[0,0] for i in range(2)]\n",
    "    for i in range(test.shape[0]):\n",
    "        pred_cat = predict(test[i])\n",
    "        score[test[i][-1]][pred_cat]+=1\n",
    "        if test[i][-1]==pred_cat:\n",
    "            count+=1\n",
    "    precision = score[1][1]/(score[0][1]+score[1][1])\n",
    "    recall = score[1][1]/(score[1][0]+score[1][1])\n",
    "    F1 = (2*precision*recall)/(precision+recall)\n",
    "    print(\"Accuracy: {} %\".format(count*100/len(test)))\n",
    "    print(\"Precision: {}\".format(precision))\n",
    "    print(\"Recall: {}\".format(recall))\n",
    "    print(\"F1 Score: {}\".format(F1))\n"
   ]
  },
  {
   "cell_type": "code",
   "execution_count": 12,
   "metadata": {},
   "outputs": [
    {
     "output_type": "stream",
     "name": "stdout",
     "text": [
      "Accuracy: 87.14285714285714%\nPrecision: 0.8227848101265823\nRecall: 0.8333333333333334\nF1 Score: 0.8280254777070064\n"
     ]
    }
   ],
   "source": [
    "Accuracy_of_classifier(test)"
   ]
  },
  {
   "cell_type": "code",
   "execution_count": 13,
   "metadata": {},
   "outputs": [
    {
     "output_type": "stream",
     "name": "stdout",
     "text": [
      "Accuracy: 85.10204081632654%\n",
      "Precision: 0.8311111111111111\n",
      "Recall: 0.8423423423423423\n",
      "F1 Score: 0.83668903803132\n"
     ]
    }
   ],
   "source": [
    "Accuracy_of_classifier(train)"
   ]
  },
  {
   "cell_type": "code",
   "execution_count": null,
   "metadata": {},
   "outputs": [],
   "source": []
  }
 ]
}